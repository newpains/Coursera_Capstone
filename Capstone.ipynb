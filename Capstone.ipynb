{
 "cells": [
  {
   "cell_type": "markdown",
   "metadata": {},
   "source": [
    "# Predicting The Severity of Car Accidents in Seattle"
   ]
  },
  {
   "cell_type": "markdown",
   "metadata": {},
   "source": [
    "## Introduction"
   ]
  },
  {
   "cell_type": "markdown",
   "metadata": {},
   "source": [
    "Car accidents around the world occur very frequently, many of them are due to road conditions and the environment. The idea is to have a tool that, based on the conditions of the cart, the weather and the drivers; can give to know the possibility of having an accident as well as its severity, seeking to change your travel plan or if not possible, be more attentive and careful.\n",
    "For this objective, we are going to work with the data of the city of Seattle, which will allow us to put together a model that will give us the best results. This data does not disclose information on past accidents based on road conditions, weather, light, driver attention, drug or alcohol use, and speed.\n",
    "At the end, a report will be presented in which the model that meets the proposed objective will be presented, in addition to considering results based on the possibility of inappropriate behaviors (lack of attention, going too fast or consuming drugs or alcohol) on the part of the drivers, this last point seeks to alert drivers to their behavior as well as that of others."
   ]
  },
  {
   "cell_type": "markdown",
   "metadata": {},
   "source": [
    "## Imports"
   ]
  },
  {
   "cell_type": "code",
   "execution_count": 2,
   "metadata": {},
   "outputs": [],
   "source": [
    "%matplotlib inline\n",
    "import pandas as pd\n",
    "import numpy as np"
   ]
  },
  {
   "cell_type": "markdown",
   "metadata": {},
   "source": [
    "## Data Understanding"
   ]
  },
  {
   "cell_type": "markdown",
   "metadata": {},
   "source": [
    "The dataset to use is about collisions recorded in the city of Seattle. Its attributes are as follows:\n",
    "\n",
    "<table>\n",
    "    <tr>\n",
    "        <th>Attribute</th>\n",
    "        <th>Data type, length</th>\n",
    "        <th>Description</th>\n",
    "    </tr>\n",
    "<tr><td>OBJECTID</td><td>ObjectID</td><td>ESRI unique identifier</td></tr>\n",
    "<tr><td>SHAPE</td><td>Geometry</td><td>ESRI geometry field</td></tr>\n",
    "<tr><td>INCKEY</td><td>Long</td><td>A unique key for the incident</td></tr>\n",
    "<tr><td>COLDETKEY</td><td>Long</td><td>Secondary key for the incident</td></tr>\n",
    "<tr><td>ADDRTYPE</td><td>Text, 12</td><td>Collision address type:\n",
    "• Alley\n",
    "• Block\n",
    "• Intersection</td></tr>\n",
    "<tr><td>INTKEY</td><td>Double</td><td>Key that corresponds to the intersection associated with a collision </td></tr>\n",
    "<tr><td>LOCATION</td><td>Text, 255</td><td>Description of the general location of the collision</td></tr>\n",
    "<tr><td>EXCEPTRSNCODE</td><td>Text, 10</td><td></td></tr>\n",
    "<tr><td>EXCEPTRSNDESC</td><td>Text, 300</td><td></td></tr>\n",
    "<tr><td>SEVERITYCODE</td><td>Text, 100</td><td>A code that corresponds to the severity of the\n",
    "collision:\n",
    "• 3—fatality\n",
    "• 2b—serious injury\n",
    "• 2—injury\n",
    "• 1—prop damage\n",
    "• 0—unknown</td></tr>\n",
    "<tr><td>SEVERITYDESC</td><td>Text</td><td>A detailed description of the severity of the collision</td></tr>\n",
    "<tr><td>COLLISIONTYPE</td><td>Text, 300</td><td>Collision type</td></tr>\n",
    "<tr><td>PERSONCOUNT</td><td>Double</td><td>The total number of people involved in the collision</td></tr>\n",
    "<tr><td>PEDCOUNT</td><td>Double</td><td>The number of pedestrians involved in the collision. This is entered by the state.</td></tr>\n",
    "<tr><td>PEDCYLCOUNT</td><td>Double</td><td>The number of bicycles involved in the collision. This is entered by the state.</td></tr>\n",
    "<tr><td>VEHCOUNT</td><td>Double</td><td>The number of vehicles involved in the collision. This is entered by the state.</td></tr>\n",
    "<tr><td>INJURIES</td><td>Double</td><td>The number of total injuries in the collision. This is entered by the state.</td></tr>\n",
    "<tr><td>SERIOUSINJURIES</td><td>Double</td><td>The number of serious injuries in the collision. This is entered by the state.</td></tr>\n",
    "<tr><td>FATALITIES</td><td>Double</td><td>The number of fatalities in the collision. This is entered by the state.</td></tr>\n",
    "<tr><td>INCDATE</td><td>Date</td><td>The date of the incident.</td></tr>\n",
    "<tr><td>INCDTTM</td><td>Text, 30</td><td>The date and time of the incident.</td></tr>\n",
    "<tr><td>JUNCTIONTYPE</td><td>Text, 300</td><td>Category of junction at which collision took place</td></tr>\n",
    "<tr><td>SDOT_COLCODE</td><td>Text, 10</td><td>A code given to the collision by SDOT.</td></tr>\n",
    "<tr><td>SDOT_COLDESC</td><td>Text, 300</td><td>A description of the collision corresponding to the collision code.</td></tr>\n",
    "<tr><td>INATTENTIONIND</td><td>Text, 1</td><td>Whether or not collision was due to inattention. (Y/N)</td></tr>\n",
    "<tr><td>UNDERINFL</td><td>Text, 10</td><td>Whether or not a driver involved was under the influence of drugs or alcohol.</td></tr>\n",
    "<tr><td>WEATHER</td><td>Text, 300</td><td>A description of the weather conditions during the time of the collision.</td></tr>\n",
    "<tr><td>ROADCOND</td><td>Text, 300</td><td>The condition of the road during the collision.</td></tr>\n",
    "<tr><td>LIGHTCOND</td><td>Text, 300</td><td>The light conditions during the collision.</td></tr>\n",
    "<tr><td>PEDROWNOTGRNT</td><td>Text, 1</td><td>Whether or not the pedestrian right of way was not granted. (Y/N)</td></tr>\n",
    "<tr><td>SDOTCOLNUM</td><td>Text, 10</td><td>A number given to the collision by SDOT.</td></tr>\n",
    "<tr><td>SPEEDING</td><td>Text, 1</td><td>Whether or not speeding was a factor in the collision. (Y/N)</td></tr>\n",
    "<tr><td>ST_COLCODE</td><td>Text, 10</td><td>A code provided by the state that describes the collision. For more information about these codes, please see the State Collision Code Dictionary.</td></tr>\n",
    "<tr><td>ST_COLDESC</td><td>Text, 300</td><td>A description that corresponds to the state’s coding designation.</td></tr>\n",
    "<tr><td>SEGLANEKEY</td><td>Long</td><td>A key for the lane segment in which the collision occurred.</td></tr>\n",
    "<tr><td>CROSSWALKKEY</td><td>Long</td><td>A key for the crosswalk at which the collision occurred.</td></tr>\n",
    "<tr><td>HITPARKEDCAR</td><td>Text, 1</td><td>Whether or not the collision involved hitting a parked car. (Y/N)</td></tr>\n",
    "</table>"
   ]
  },
  {
   "cell_type": "markdown",
   "metadata": {},
   "source": [
    "### Download the dataset and load data from CSV file:"
   ]
  },
  {
   "cell_type": "code",
   "execution_count": 1,
   "metadata": {},
   "outputs": [
    {
     "name": "stdout",
     "output_type": "stream",
     "text": [
      "--2020-08-30 08:16:36--  https://s3.us.cloud-object-storage.appdomain.cloud/cf-courses-data/CognitiveClass/DP0701EN/version-2/Data-Collisions.csv\n",
      "Resolving s3.us.cloud-object-storage.appdomain.cloud (s3.us.cloud-object-storage.appdomain.cloud)... 67.228.254.196\n",
      "Connecting to s3.us.cloud-object-storage.appdomain.cloud (s3.us.cloud-object-storage.appdomain.cloud)|67.228.254.196|:443... connected.\n",
      "HTTP request sent, awaiting response... 200 OK\n",
      "Length: 73917638 (70M) [text/csv]\n",
      "Saving to: ‘Data-Collisions.csv’\n",
      "\n",
      "Data-Collisions.csv 100%[===================>]  70.49M  20.4MB/s    in 3.5s    \n",
      "\n",
      "2020-08-30 08:16:39 (20.2 MB/s) - ‘Data-Collisions.csv’ saved [73917638/73917638]\n",
      "\n"
     ]
    }
   ],
   "source": [
    "!wget -O Data-Collisions.csv https://s3.us.cloud-object-storage.appdomain.cloud/cf-courses-data/CognitiveClass/DP0701EN/version-2/Data-Collisions.csv"
   ]
  },
  {
   "cell_type": "code",
   "execution_count": 3,
   "metadata": {},
   "outputs": [
    {
     "name": "stderr",
     "output_type": "stream",
     "text": [
      "/home/jupyterlab/conda/envs/python/lib/python3.6/site-packages/IPython/core/interactiveshell.py:3072: DtypeWarning: Columns (33) have mixed types.Specify dtype option on import or set low_memory=False.\n",
      "  interactivity=interactivity, compiler=compiler, result=result)\n"
     ]
    },
    {
     "data": {
      "text/html": [
       "<div>\n",
       "<style scoped>\n",
       "    .dataframe tbody tr th:only-of-type {\n",
       "        vertical-align: middle;\n",
       "    }\n",
       "\n",
       "    .dataframe tbody tr th {\n",
       "        vertical-align: top;\n",
       "    }\n",
       "\n",
       "    .dataframe thead th {\n",
       "        text-align: right;\n",
       "    }\n",
       "</style>\n",
       "<table border=\"1\" class=\"dataframe\">\n",
       "  <thead>\n",
       "    <tr style=\"text-align: right;\">\n",
       "      <th></th>\n",
       "      <th>SEVERITYCODE</th>\n",
       "      <th>X</th>\n",
       "      <th>Y</th>\n",
       "      <th>OBJECTID</th>\n",
       "      <th>INCKEY</th>\n",
       "      <th>COLDETKEY</th>\n",
       "      <th>REPORTNO</th>\n",
       "      <th>STATUS</th>\n",
       "      <th>ADDRTYPE</th>\n",
       "      <th>INTKEY</th>\n",
       "      <th>...</th>\n",
       "      <th>ROADCOND</th>\n",
       "      <th>LIGHTCOND</th>\n",
       "      <th>PEDROWNOTGRNT</th>\n",
       "      <th>SDOTCOLNUM</th>\n",
       "      <th>SPEEDING</th>\n",
       "      <th>ST_COLCODE</th>\n",
       "      <th>ST_COLDESC</th>\n",
       "      <th>SEGLANEKEY</th>\n",
       "      <th>CROSSWALKKEY</th>\n",
       "      <th>HITPARKEDCAR</th>\n",
       "    </tr>\n",
       "  </thead>\n",
       "  <tbody>\n",
       "    <tr>\n",
       "      <th>0</th>\n",
       "      <td>2</td>\n",
       "      <td>-122.323148</td>\n",
       "      <td>47.703140</td>\n",
       "      <td>1</td>\n",
       "      <td>1307</td>\n",
       "      <td>1307</td>\n",
       "      <td>3502005</td>\n",
       "      <td>Matched</td>\n",
       "      <td>Intersection</td>\n",
       "      <td>37475.0</td>\n",
       "      <td>...</td>\n",
       "      <td>Wet</td>\n",
       "      <td>Daylight</td>\n",
       "      <td>NaN</td>\n",
       "      <td>NaN</td>\n",
       "      <td>NaN</td>\n",
       "      <td>10</td>\n",
       "      <td>Entering at angle</td>\n",
       "      <td>0</td>\n",
       "      <td>0</td>\n",
       "      <td>N</td>\n",
       "    </tr>\n",
       "    <tr>\n",
       "      <th>1</th>\n",
       "      <td>1</td>\n",
       "      <td>-122.347294</td>\n",
       "      <td>47.647172</td>\n",
       "      <td>2</td>\n",
       "      <td>52200</td>\n",
       "      <td>52200</td>\n",
       "      <td>2607959</td>\n",
       "      <td>Matched</td>\n",
       "      <td>Block</td>\n",
       "      <td>NaN</td>\n",
       "      <td>...</td>\n",
       "      <td>Wet</td>\n",
       "      <td>Dark - Street Lights On</td>\n",
       "      <td>NaN</td>\n",
       "      <td>6354039.0</td>\n",
       "      <td>NaN</td>\n",
       "      <td>11</td>\n",
       "      <td>From same direction - both going straight - bo...</td>\n",
       "      <td>0</td>\n",
       "      <td>0</td>\n",
       "      <td>N</td>\n",
       "    </tr>\n",
       "    <tr>\n",
       "      <th>2</th>\n",
       "      <td>1</td>\n",
       "      <td>-122.334540</td>\n",
       "      <td>47.607871</td>\n",
       "      <td>3</td>\n",
       "      <td>26700</td>\n",
       "      <td>26700</td>\n",
       "      <td>1482393</td>\n",
       "      <td>Matched</td>\n",
       "      <td>Block</td>\n",
       "      <td>NaN</td>\n",
       "      <td>...</td>\n",
       "      <td>Dry</td>\n",
       "      <td>Daylight</td>\n",
       "      <td>NaN</td>\n",
       "      <td>4323031.0</td>\n",
       "      <td>NaN</td>\n",
       "      <td>32</td>\n",
       "      <td>One parked--one moving</td>\n",
       "      <td>0</td>\n",
       "      <td>0</td>\n",
       "      <td>N</td>\n",
       "    </tr>\n",
       "    <tr>\n",
       "      <th>3</th>\n",
       "      <td>1</td>\n",
       "      <td>-122.334803</td>\n",
       "      <td>47.604803</td>\n",
       "      <td>4</td>\n",
       "      <td>1144</td>\n",
       "      <td>1144</td>\n",
       "      <td>3503937</td>\n",
       "      <td>Matched</td>\n",
       "      <td>Block</td>\n",
       "      <td>NaN</td>\n",
       "      <td>...</td>\n",
       "      <td>Dry</td>\n",
       "      <td>Daylight</td>\n",
       "      <td>NaN</td>\n",
       "      <td>NaN</td>\n",
       "      <td>NaN</td>\n",
       "      <td>23</td>\n",
       "      <td>From same direction - all others</td>\n",
       "      <td>0</td>\n",
       "      <td>0</td>\n",
       "      <td>N</td>\n",
       "    </tr>\n",
       "    <tr>\n",
       "      <th>4</th>\n",
       "      <td>2</td>\n",
       "      <td>-122.306426</td>\n",
       "      <td>47.545739</td>\n",
       "      <td>5</td>\n",
       "      <td>17700</td>\n",
       "      <td>17700</td>\n",
       "      <td>1807429</td>\n",
       "      <td>Matched</td>\n",
       "      <td>Intersection</td>\n",
       "      <td>34387.0</td>\n",
       "      <td>...</td>\n",
       "      <td>Wet</td>\n",
       "      <td>Daylight</td>\n",
       "      <td>NaN</td>\n",
       "      <td>4028032.0</td>\n",
       "      <td>NaN</td>\n",
       "      <td>10</td>\n",
       "      <td>Entering at angle</td>\n",
       "      <td>0</td>\n",
       "      <td>0</td>\n",
       "      <td>N</td>\n",
       "    </tr>\n",
       "  </tbody>\n",
       "</table>\n",
       "<p>5 rows × 38 columns</p>\n",
       "</div>"
      ],
      "text/plain": [
       "   SEVERITYCODE           X          Y  OBJECTID  INCKEY  COLDETKEY REPORTNO  \\\n",
       "0             2 -122.323148  47.703140         1    1307       1307  3502005   \n",
       "1             1 -122.347294  47.647172         2   52200      52200  2607959   \n",
       "2             1 -122.334540  47.607871         3   26700      26700  1482393   \n",
       "3             1 -122.334803  47.604803         4    1144       1144  3503937   \n",
       "4             2 -122.306426  47.545739         5   17700      17700  1807429   \n",
       "\n",
       "    STATUS      ADDRTYPE   INTKEY  ... ROADCOND                LIGHTCOND  \\\n",
       "0  Matched  Intersection  37475.0  ...      Wet                 Daylight   \n",
       "1  Matched         Block      NaN  ...      Wet  Dark - Street Lights On   \n",
       "2  Matched         Block      NaN  ...      Dry                 Daylight   \n",
       "3  Matched         Block      NaN  ...      Dry                 Daylight   \n",
       "4  Matched  Intersection  34387.0  ...      Wet                 Daylight   \n",
       "\n",
       "  PEDROWNOTGRNT  SDOTCOLNUM SPEEDING ST_COLCODE  \\\n",
       "0           NaN         NaN      NaN         10   \n",
       "1           NaN   6354039.0      NaN         11   \n",
       "2           NaN   4323031.0      NaN         32   \n",
       "3           NaN         NaN      NaN         23   \n",
       "4           NaN   4028032.0      NaN         10   \n",
       "\n",
       "                                          ST_COLDESC  SEGLANEKEY  \\\n",
       "0                                  Entering at angle           0   \n",
       "1  From same direction - both going straight - bo...           0   \n",
       "2                             One parked--one moving           0   \n",
       "3                   From same direction - all others           0   \n",
       "4                                  Entering at angle           0   \n",
       "\n",
       "   CROSSWALKKEY  HITPARKEDCAR  \n",
       "0             0             N  \n",
       "1             0             N  \n",
       "2             0             N  \n",
       "3             0             N  \n",
       "4             0             N  \n",
       "\n",
       "[5 rows x 38 columns]"
      ]
     },
     "execution_count": 3,
     "metadata": {},
     "output_type": "execute_result"
    }
   ],
   "source": [
    "df = pd.read_csv('Data-Collisions.csv')\n",
    "df.head()"
   ]
  },
  {
   "cell_type": "code",
   "execution_count": 4,
   "metadata": {},
   "outputs": [
    {
     "data": {
      "text/plain": [
       "(194673, 38)"
      ]
     },
     "execution_count": 4,
     "metadata": {},
     "output_type": "execute_result"
    }
   ],
   "source": [
    "df.shape"
   ]
  },
  {
   "cell_type": "markdown",
   "metadata": {},
   "source": [
    "### Review the dataset"
   ]
  },
  {
   "cell_type": "markdown",
   "metadata": {},
   "source": [
    "Let's see how many null values exist in our data set"
   ]
  },
  {
   "cell_type": "code",
   "execution_count": 12,
   "metadata": {},
   "outputs": [
    {
     "data": {
      "text/plain": [
       "SEVERITYCODE           0\n",
       "X                   5334\n",
       "Y                   5334\n",
       "OBJECTID               0\n",
       "INCKEY                 0\n",
       "COLDETKEY              0\n",
       "REPORTNO               0\n",
       "STATUS                 0\n",
       "ADDRTYPE            1926\n",
       "INTKEY            129603\n",
       "LOCATION            2677\n",
       "EXCEPTRSNCODE     109862\n",
       "EXCEPTRSNDESC     189035\n",
       "SEVERITYCODE.1         0\n",
       "SEVERITYDESC           0\n",
       "COLLISIONTYPE       4904\n",
       "PERSONCOUNT            0\n",
       "PEDCOUNT               0\n",
       "PEDCYLCOUNT            0\n",
       "VEHCOUNT               0\n",
       "INCDATE                0\n",
       "INCDTTM                0\n",
       "JUNCTIONTYPE        6329\n",
       "SDOT_COLCODE           0\n",
       "SDOT_COLDESC           0\n",
       "INATTENTIONIND    164868\n",
       "UNDERINFL           4884\n",
       "WEATHER             5081\n",
       "ROADCOND            5012\n",
       "LIGHTCOND           5170\n",
       "PEDROWNOTGRNT     190006\n",
       "SDOTCOLNUM         79737\n",
       "SPEEDING          185340\n",
       "ST_COLCODE            18\n",
       "ST_COLDESC          4904\n",
       "SEGLANEKEY             0\n",
       "CROSSWALKKEY           0\n",
       "HITPARKEDCAR           0\n",
       "dtype: int64"
      ]
     },
     "execution_count": 12,
     "metadata": {},
     "output_type": "execute_result"
    }
   ],
   "source": [
    "df.isnull().sum()"
   ]
  },
  {
   "cell_type": "markdown",
   "metadata": {},
   "source": [
    "Let’s see how many of each severity code is in our data set"
   ]
  },
  {
   "cell_type": "code",
   "execution_count": 14,
   "metadata": {},
   "outputs": [
    {
     "data": {
      "text/plain": [
       "1    136485\n",
       "2     58188\n",
       "Name: SEVERITYCODE, dtype: int64"
      ]
     },
     "execution_count": 14,
     "metadata": {},
     "output_type": "execute_result"
    }
   ],
   "source": [
    "df['SEVERITYCODE'].value_counts()"
   ]
  },
  {
   "cell_type": "markdown",
   "metadata": {},
   "source": [
    "We can see that there are only 2 of the 5 codes"
   ]
  },
  {
   "cell_type": "markdown",
   "metadata": {},
   "source": [
    "Let's see how many inattention accidents are in our data set"
   ]
  },
  {
   "cell_type": "code",
   "execution_count": 16,
   "metadata": {},
   "outputs": [
    {
     "data": {
      "text/plain": [
       "Y    29805\n",
       "Name: INATTENTIONIND, dtype: int64"
      ]
     },
     "execution_count": 16,
     "metadata": {},
     "output_type": "execute_result"
    }
   ],
   "source": [
    "df['INATTENTIONIND'].value_counts()"
   ]
  },
  {
   "cell_type": "markdown",
   "metadata": {},
   "source": [
    "It can be seen that most of the lines do not consider the driver's attention."
   ]
  },
  {
   "cell_type": "markdown",
   "metadata": {},
   "source": [
    "Let's see how many substance-related accidents are in our data set"
   ]
  },
  {
   "cell_type": "code",
   "execution_count": 17,
   "metadata": {},
   "outputs": [
    {
     "data": {
      "text/plain": [
       "N    100274\n",
       "0     80394\n",
       "Y      5126\n",
       "1      3995\n",
       "Name: UNDERINFL, dtype: int64"
      ]
     },
     "execution_count": 17,
     "metadata": {},
     "output_type": "execute_result"
    }
   ],
   "source": [
    "df['UNDERINFL'].value_counts()"
   ]
  },
  {
   "cell_type": "markdown",
   "metadata": {},
   "source": [
    "We can see that although most have values, it is necessary to normalize them."
   ]
  },
  {
   "cell_type": "markdown",
   "metadata": {},
   "source": [
    "Let’s see how many of each weather is in our data set"
   ]
  },
  {
   "cell_type": "code",
   "execution_count": 19,
   "metadata": {},
   "outputs": [
    {
     "data": {
      "text/plain": [
       "Clear                       111135\n",
       "Raining                      33145\n",
       "Overcast                     27714\n",
       "Unknown                      15091\n",
       "Snowing                        907\n",
       "Other                          832\n",
       "Fog/Smog/Smoke                 569\n",
       "Sleet/Hail/Freezing Rain       113\n",
       "Blowing Sand/Dirt               56\n",
       "Severe Crosswind                25\n",
       "Partly Cloudy                    5\n",
       "Name: WEATHER, dtype: int64"
      ]
     },
     "execution_count": 19,
     "metadata": {},
     "output_type": "execute_result"
    }
   ],
   "source": [
    "df['WEATHER'].value_counts()"
   ]
  },
  {
   "cell_type": "markdown",
   "metadata": {},
   "source": [
    "Let's see how many road conditions are in our data set."
   ]
  },
  {
   "cell_type": "code",
   "execution_count": 20,
   "metadata": {},
   "outputs": [
    {
     "data": {
      "text/plain": [
       "Dry               124510\n",
       "Wet                47474\n",
       "Unknown            15078\n",
       "Ice                 1209\n",
       "Snow/Slush          1004\n",
       "Other                132\n",
       "Standing Water       115\n",
       "Sand/Mud/Dirt         75\n",
       "Oil                   64\n",
       "Name: ROADCOND, dtype: int64"
      ]
     },
     "execution_count": 20,
     "metadata": {},
     "output_type": "execute_result"
    }
   ],
   "source": [
    "df['ROADCOND'].value_counts()"
   ]
  },
  {
   "cell_type": "markdown",
   "metadata": {},
   "source": [
    "Let's see how many light conditions there are in our data set."
   ]
  },
  {
   "cell_type": "code",
   "execution_count": 21,
   "metadata": {},
   "outputs": [
    {
     "data": {
      "text/plain": [
       "Daylight                    116137\n",
       "Dark - Street Lights On      48507\n",
       "Unknown                      13473\n",
       "Dusk                          5902\n",
       "Dawn                          2502\n",
       "Dark - No Street Lights       1537\n",
       "Dark - Street Lights Off      1199\n",
       "Other                          235\n",
       "Dark - Unknown Lighting         11\n",
       "Name: LIGHTCOND, dtype: int64"
      ]
     },
     "execution_count": 21,
     "metadata": {},
     "output_type": "execute_result"
    }
   ],
   "source": [
    "df['LIGHTCOND'].value_counts()"
   ]
  },
  {
   "cell_type": "markdown",
   "metadata": {},
   "source": [
    "Let's see how many recorded speed conditions in our data set"
   ]
  },
  {
   "cell_type": "code",
   "execution_count": 22,
   "metadata": {},
   "outputs": [
    {
     "data": {
      "text/plain": [
       "Y    9333\n",
       "Name: SPEEDING, dtype: int64"
      ]
     },
     "execution_count": 22,
     "metadata": {},
     "output_type": "execute_result"
    }
   ],
   "source": [
    "df['SPEEDING'].value_counts()"
   ]
  },
  {
   "cell_type": "markdown",
   "metadata": {},
   "source": [
    "Let's see how many collision address type in our data set"
   ]
  },
  {
   "cell_type": "code",
   "execution_count": 23,
   "metadata": {},
   "outputs": [
    {
     "data": {
      "text/plain": [
       "Block           126926\n",
       "Intersection     65070\n",
       "Alley              751\n",
       "Name: ADDRTYPE, dtype: int64"
      ]
     },
     "execution_count": 23,
     "metadata": {},
     "output_type": "execute_result"
    }
   ],
   "source": [
    "df['ADDRTYPE'].value_counts()"
   ]
  },
  {
   "cell_type": "code",
   "execution_count": null,
   "metadata": {},
   "outputs": [],
   "source": []
  },
  {
   "cell_type": "code",
   "execution_count": null,
   "metadata": {},
   "outputs": [],
   "source": []
  }
 ],
 "metadata": {
  "kernelspec": {
   "display_name": "Python",
   "language": "python",
   "name": "conda-env-python-py"
  },
  "language_info": {
   "codemirror_mode": {
    "name": "ipython",
    "version": 3
   },
   "file_extension": ".py",
   "mimetype": "text/x-python",
   "name": "python",
   "nbconvert_exporter": "python",
   "pygments_lexer": "ipython3",
   "version": "3.6.11"
  }
 },
 "nbformat": 4,
 "nbformat_minor": 4
}
